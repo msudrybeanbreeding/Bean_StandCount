{
  "cells": [
    {
      "cell_type": "code",
      "execution_count": 71,
      "metadata": {
        "colab": {
          "base_uri": "https://localhost:8080/"
        },
        "id": "8Wx9Zbjiv0GD",
        "outputId": "5525c8d3-8d4a-4e49-8ba0-4eefea4e0a9e"
      },
      "outputs": [],
      "source": [
        "# %pip install rasterio\n",
        "# %pip install geopandas\n",
        "# %pip install fiona\n",
        "# %pip install earthpy\n",
        "\n",
        "\n",
        "import numpy as np\n",
        "import numpy.ma as ma\n",
        "#from matplotlib import pyplot as plt\n",
        "import rasterio\n",
        "import geopandas as gpd\n",
        "#import rasterstats as rs\n",
        "#from IPython.display import display\n",
        "import pandas as pd\n",
        "import os\n",
        "import fiona\n",
        "import rasterio.mask\n",
        "#import matplotlib.pyplot as plt\n",
        "import warnings\n",
        "import rasterio\n",
        "import rasterio.features\n",
        "warnings.filterwarnings('ignore') #don't display warnings\n",
        "from rasterio.mask import mask\n",
        "#import earthpy.plot as ep\n",
        "import cv2\n",
        "import datetime"
      ]
    },
    {
      "cell_type": "code",
      "execution_count": 72,
      "metadata": {
        "colab": {
          "base_uri": "https://localhost:8080/"
        },
        "id": "LXk-g-S2x0Pl",
        "outputId": "e4c2e12a-de24-4216-eb1a-6cedb8e8d077"
      },
      "outputs": [],
      "source": [
        "# from google.colab import drive\n",
        "# drive.mount('/content/drive')"
      ]
    },
    {
      "cell_type": "code",
      "execution_count": 73,
      "metadata": {
        "colab": {
          "base_uri": "https://localhost:8080/"
        },
        "id": "vb_GWym5v5m6",
        "outputId": "60344797-585d-4116-be6b-8394af3b2aff"
      },
      "outputs": [
        {
          "name": "stdout",
          "output_type": "stream",
          "text": [
            "Current working directory: I:\\My Drive\\UAS_Beans\\Beans_StandCount\\2022\\SVREC\\ByStep\\k._TestingModel\\6_10_22_SVREC_RGB_7m\\Plots_Clip\n",
            "['fid_1', 'PlotID', 'Global_ID', 'Plot', 'ENTRY', 'REP', 'IBLK', 'Rng', 'Pas', 'Name', 'Identity1', 'Pedigree', 'Experiment', 'Origin', 'Selection', 'Descriptio', 'Year', 'Location', 'Planter', 'Harvester', 'StandCount', 'BUFF_DIST', 'ORIG_FID', 'geometry']\n"
          ]
        }
      ],
      "source": [
        "root_file = 'I:\\\\My Drive\\\\UAS_Beans\\\\Beans_StandCount\\\\2022\\\\SVREC\\\\ByStep'\n",
        "shp_file = \"6_10_22_SVREC_Plots_7m_final.shp\"\n",
        "img_dir= 'C:\\\\Users\\\\leoag\\\\Michigan State University\\\\MSU Dry Bean Breeding Lab - General\\\\UAS_Beans\\\\2022\\\\SVREC\\\\Pix4D_projects_RGB\\\\6_10_22_SVREC_RGB_7m\\\\3_dsm_ortho\\\\2_mosaic'\n",
        "shp_dir = f\"{root_file}/\"'k._TestingModel\\\\6_10_22_SVREC_RGB_7m\\\\Shapefile'\n",
        "plot_dir = f\"{root_file}/\"'k._TestingModel\\\\6_10_22_SVREC_RGB_7m\\\\Plots_Clip'\n",
        "\n",
        "\n",
        "#os.chdir('/content/drive/MyDrive/temp_roi')\n",
        "\n",
        "#plots_img = '/plots_img'\n",
        "\n",
        "try:\n",
        "    os.mkdir(plot_dir)\n",
        "except:\n",
        "  pass\n",
        "\n",
        "os.chdir(plot_dir)\n",
        "# # Print the current working directory\n",
        "print(\"Current working directory: {0}\".format(os.getcwd()))\n",
        "\n",
        "plots = gpd.read_file(f'{shp_dir}' f'/{shp_file}')\n",
        "\n",
        "plots_names=list(plots.columns.values)\n",
        "print(plots_names)"
      ]
    },
    {
      "cell_type": "code",
      "execution_count": 74,
      "metadata": {
        "colab": {
          "base_uri": "https://localhost:8080/"
        },
        "id": "OEAH1u34yQht",
        "outputId": "502edd06-20fc-490b-c026-e2f3bccb09d6"
      },
      "outputs": [
        {
          "name": "stdout",
          "output_type": "stream",
          "text": [
            "{'type': 'Feature', 'id': '0', 'properties': OrderedDict([('fid_1', 1.0), ('PlotID', '264'), ('Global_ID', '2202_4030'), ('Plot', '4030'), ('ENTRY', '20'), ('REP', '4'), ('IBLK', '6'), ('Rng', '12'), ('Pas', '24'), ('Name', 'N21510'), ('Identity1', None), ('Pedigree', 'N15306/N14229'), ('Experiment', '2202'), ('Origin', '18N118-02-02'), ('Selection', '20T2079'), ('Descriptio', '18A0118-18L116-18-19T75-19T1037-20T2079'), ('Year', '2022'), ('Location', 'SVREC'), ('Planter', '301'), ('Harvester', '1969'), ('StandCount', None), ('BUFF_DIST', -0.05), ('ORIG_FID', 0)]), 'geometry': {'type': 'Polygon', 'coordinates': [[(281587.71655961685, 4808617.627681468), (281587.7096586609, 4808617.627499519), (281582.31449125614, 4808617.709446654), (281582.30452856235, 4808617.710300954), (281582.29694237746, 4808617.712181065), (281582.2897446798, 4808617.715227064), (281582.2831134163, 4808617.719363639), (281582.27721250337, 4808617.724488543), (281582.2721878914, 4808617.73047502), (281582.26816374715, 4808617.737175133), (281582.2652395917, 4808617.744423179), (281582.2634877013, 4808617.752040006), (281582.2628854308, 4808617.760796381), (281582.2635963848, 4808617.7751971), (281582.2756242631, 4808618.607952189), (281582.27672436275, 4808618.6186985), (281582.2790765157, 4808618.627012469), (281582.2828301396, 4808618.634794839), (281582.2878722511, 4808618.641811373), (281582.29405114055, 4808618.647850947), (281582.301180806, 4808618.6527317595), (281582.30904672854, 4808618.656306958), (281582.3174121883, 4808618.658468945), (281582.3280109074, 4808618.6593102515), (281587.7236144189, 4808618.577391341), (281587.73437959794, 4808618.576289313), (281587.7426935751, 4808618.573937152), (281587.7504759142, 4808618.5701835435), (281587.75749247335, 4808618.565141417), (281587.76353202946, 4808618.558962548), (281587.7684128545, 4808618.551832864), (281587.7719880529, 4808618.543966945), (281587.77415002976, 4808618.535601517), (281587.7749913484, 4808618.525002606), (281587.76214962266, 4808617.678861896), (281587.7610597592, 4808617.66816121), (281587.75873464346, 4808617.6598931085), (281587.75502379984, 4808617.652147301), (281587.7500375528, 4808617.645154079), (281587.7439241186, 4808617.639121328), (281587.73686529044, 4808617.634228425), (281587.72927914374, 4808617.629801057), (281587.72522525303, 4808617.629187563), (281587.71655961685, 4808617.627681468)]]}}\n"
          ]
        }
      ],
      "source": [
        "shp_file_info=fiona.open(f'{shp_dir}/'f'{shp_file}', \"r\") \n",
        "#first feature of the shapefile\n",
        "shp_file_inf = shp_file_info.next()\n",
        "print(shp_file_inf)\n",
        "\n",
        "plot_num_field_name = \"Global_ID\""
      ]
    },
    {
      "cell_type": "code",
      "execution_count": 75,
      "metadata": {
        "colab": {
          "base_uri": "https://localhost:8080/"
        },
        "id": "9ZDNNXklyQeV",
        "outputId": "610f833a-b407-4993-913a-dbb55fac64f6"
      },
      "outputs": [
        {
          "name": "stdout",
          "output_type": "stream",
          "text": [
            "['6_10_22_SVREC_RGB_7m_transparent_mosaic_group1.tif']\n"
          ]
        }
      ],
      "source": [
        "img_list = os.listdir(img_dir)\n",
        "img_list = [v for v in img_list if v.endswith('.tif')]\n",
        "print(img_list)"
      ]
    },
    {
      "cell_type": "code",
      "execution_count": 76,
      "metadata": {
        "colab": {
          "base_uri": "https://localhost:8080/"
        },
        "id": "2FsbZzgayQbp",
        "outputId": "6371493c-77b2-436d-82c8-2cc18bb25566"
      },
      "outputs": [
        {
          "name": "stdout",
          "output_type": "stream",
          "text": [
            "0\n",
            "['6_10_22_SVREC_RGB_7m_transparent_mosaic_group1.tif']\n"
          ]
        }
      ],
      "source": [
        "# Create an empty list to store the img names\n",
        "img_list_names = []\n",
        "\n",
        "for l in range(len(img_list)):\n",
        "    print(l)\n",
        "    img_list_names.append(str(img_list[l]))\n",
        "\n",
        "print(img_list_names)"
      ]
    },
    {
      "cell_type": "code",
      "execution_count": 77,
      "metadata": {},
      "outputs": [],
      "source": [
        "# dataset = rasterio.open('C:\\\\Users\\\\leoag\\\\Michigan State University\\\\MSU Dry Bean Breeding Lab - General\\\\UAS_Beans\\\\2022\\\\SVREC\\\\Pix4D_projects_RGB\\\\6_13_22_SVREC_RGB_10m\\\\3_dsm_ortho\\\\2_mosaic\\\\6_13_22_SVREC_RGB_10m_transparent_mosaic_group1.tif')\n",
        "# dataset.crs"
      ]
    },
    {
      "cell_type": "code",
      "execution_count": 78,
      "metadata": {},
      "outputs": [],
      "source": [
        "# dataset.count"
      ]
    },
    {
      "cell_type": "code",
      "execution_count": 79,
      "metadata": {
        "id": "dVvANbvLyQVO"
      },
      "outputs": [
        {
          "name": "stdout",
          "output_type": "stream",
          "text": [
            "6_10_22_SVREC_RGB_7m_transparent_mosaic_group1.tif\n",
            "2202_4030_7m.png\n",
            "2202_4029_7m.png\n",
            "2202_4028_7m.png\n",
            "2202_4027_7m.png\n",
            "2202_4026_7m.png\n",
            "2202_3030_7m.png\n",
            "2202_3029_7m.png\n",
            "2202_3028_7m.png\n",
            "2202_3027_7m.png\n",
            "2202_3026_7m.png\n",
            "2201_4036_7m.png\n",
            "2201_4035_7m.png\n",
            "2201_4034_7m.png\n",
            "2201_4033_7m.png\n",
            "2201_4032_7m.png\n",
            "2201_4031_7m.png\n",
            "2201_3036_7m.png\n",
            "2201_3035_7m.png\n",
            "2201_3034_7m.png\n",
            "2201_3033_7m.png\n",
            "2201_3032_7m.png\n",
            "2201_3031_7m.png\n",
            "2201_3025_7m.png\n",
            "2201_3026_7m.png\n",
            "2201_3027_7m.png\n",
            "2201_3028_7m.png\n",
            "2201_3029_7m.png\n",
            "2201_3030_7m.png\n",
            "2201_4025_7m.png\n",
            "2201_4026_7m.png\n",
            "2201_4027_7m.png\n",
            "2201_4028_7m.png\n",
            "2201_4029_7m.png\n",
            "2201_4030_7m.png\n",
            "2202_3021_7m.png\n",
            "2202_3022_7m.png\n",
            "2202_3023_7m.png\n",
            "2202_3024_7m.png\n",
            "2202_3025_7m.png\n",
            "2202_4021_7m.png\n",
            "2202_4022_7m.png\n",
            "2202_4023_7m.png\n",
            "2202_4024_7m.png\n",
            "2202_4025_7m.png\n",
            "2202_4020_7m.png\n",
            "2202_4019_7m.png\n",
            "2202_4018_7m.png\n",
            "2202_4017_7m.png\n",
            "2202_4016_7m.png\n",
            "2202_3020_7m.png\n",
            "2202_3019_7m.png\n",
            "2202_3018_7m.png\n",
            "2202_3017_7m.png\n",
            "2202_3016_7m.png\n",
            "2201_4024_7m.png\n",
            "2201_4023_7m.png\n",
            "2201_4022_7m.png\n",
            "2201_4021_7m.png\n",
            "2201_4020_7m.png\n",
            "2201_4019_7m.png\n",
            "2201_3024_7m.png\n",
            "2201_3023_7m.png\n",
            "2201_3022_7m.png\n",
            "2201_3021_7m.png\n",
            "2201_3020_7m.png\n",
            "2201_3019_7m.png\n",
            "2201_3013_7m.png\n",
            "2201_3014_7m.png\n",
            "2201_3015_7m.png\n",
            "2201_3016_7m.png\n",
            "2201_3017_7m.png\n",
            "2201_3018_7m.png\n",
            "2201_4013_7m.png\n",
            "2201_4014_7m.png\n",
            "2201_4015_7m.png\n",
            "2201_4016_7m.png\n",
            "2201_4017_7m.png\n",
            "2201_4018_7m.png\n",
            "2202_3011_7m.png\n",
            "2202_3012_7m.png\n",
            "2202_3013_7m.png\n",
            "2202_3014_7m.png\n",
            "2202_3015_7m.png\n",
            "2202_4011_7m.png\n",
            "2202_4012_7m.png\n",
            "2202_4013_7m.png\n",
            "2202_4014_7m.png\n",
            "2202_4015_7m.png\n",
            "2202_4010_7m.png\n",
            "2202_4009_7m.png\n",
            "2202_4008_7m.png\n",
            "2202_4007_7m.png\n",
            "2202_4006_7m.png\n",
            "2202_3010_7m.png\n",
            "2202_3009_7m.png\n",
            "2202_3008_7m.png\n",
            "2202_3007_7m.png\n",
            "2202_3006_7m.png\n",
            "2201_4012_7m.png\n",
            "2201_4011_7m.png\n",
            "2201_4010_7m.png\n",
            "2201_4009_7m.png\n",
            "2201_4008_7m.png\n",
            "2201_4007_7m.png\n",
            "2201_3012_7m.png\n",
            "2201_3011_7m.png\n",
            "2201_3010_7m.png\n",
            "2201_3009_7m.png\n",
            "2201_3008_7m.png\n",
            "2201_3007_7m.png\n",
            "2201_3001_7m.png\n",
            "2201_3002_7m.png\n",
            "2201_3003_7m.png\n",
            "2201_3004_7m.png\n",
            "2201_3005_7m.png\n",
            "2201_3006_7m.png\n",
            "2201_4001_7m.png\n",
            "2201_4002_7m.png\n",
            "2201_4003_7m.png\n",
            "2201_4004_7m.png\n",
            "2201_4005_7m.png\n",
            "2201_4006_7m.png\n",
            "2202_3001_7m.png\n",
            "2202_3002_7m.png\n",
            "2202_3003_7m.png\n",
            "2202_3004_7m.png\n",
            "2202_3005_7m.png\n",
            "2202_4001_7m.png\n",
            "2202_4002_7m.png\n",
            "2202_4003_7m.png\n",
            "2202_4004_7m.png\n",
            "2202_4005_7m.png\n",
            "2202_2030_7m.png\n",
            "2202_2029_7m.png\n",
            "2202_2028_7m.png\n",
            "2202_2027_7m.png\n",
            "2202_2026_7m.png\n",
            "2202_1030_7m.png\n",
            "2202_1029_7m.png\n",
            "2202_1028_7m.png\n",
            "2202_1027_7m.png\n",
            "2202_1026_7m.png\n",
            "2201_2036_7m.png\n",
            "2201_2035_7m.png\n",
            "2201_2034_7m.png\n",
            "2201_2033_7m.png\n",
            "2201_2032_7m.png\n",
            "2201_2031_7m.png\n",
            "2201_1036_7m.png\n",
            "2201_1035_7m.png\n",
            "2201_1034_7m.png\n",
            "2201_1033_7m.png\n",
            "2201_1032_7m.png\n",
            "2201_1031_7m.png\n",
            "2201_1025_7m.png\n",
            "2201_1026_7m.png\n",
            "2201_1027_7m.png\n",
            "2201_1028_7m.png\n",
            "2201_1029_7m.png\n",
            "2201_1030_7m.png\n",
            "2201_2025_7m.png\n",
            "2201_2026_7m.png\n",
            "2201_2027_7m.png\n",
            "2201_2028_7m.png\n",
            "2201_2029_7m.png\n",
            "2201_2030_7m.png\n",
            "2202_1021_7m.png\n",
            "2202_1022_7m.png\n",
            "2202_1023_7m.png\n",
            "2202_1024_7m.png\n",
            "2202_1025_7m.png\n",
            "2202_2021_7m.png\n",
            "2202_2022_7m.png\n",
            "2202_2023_7m.png\n",
            "2202_2024_7m.png\n",
            "2202_2025_7m.png\n",
            "2202_2020_7m.png\n",
            "2202_2019_7m.png\n",
            "2202_2018_7m.png\n",
            "2202_2017_7m.png\n",
            "2202_2016_7m.png\n",
            "2202_1020_7m.png\n",
            "2202_1019_7m.png\n",
            "2202_1018_7m.png\n",
            "2202_1017_7m.png\n",
            "2202_1016_7m.png\n",
            "2201_2024_7m.png\n",
            "2201_2023_7m.png\n",
            "2201_2022_7m.png\n",
            "2201_2021_7m.png\n",
            "2201_2020_7m.png\n",
            "2201_2019_7m.png\n",
            "2201_1024_7m.png\n",
            "2201_1023_7m.png\n",
            "2201_1022_7m.png\n",
            "2201_1021_7m.png\n",
            "2201_1020_7m.png\n",
            "2201_1019_7m.png\n",
            "2201_1013_7m.png\n",
            "2201_1014_7m.png\n",
            "2201_1015_7m.png\n",
            "2201_1016_7m.png\n",
            "2201_1017_7m.png\n",
            "2201_1018_7m.png\n",
            "2201_2013_7m.png\n",
            "2201_2014_7m.png\n",
            "2201_2015_7m.png\n",
            "2201_2016_7m.png\n",
            "2201_2017_7m.png\n",
            "2201_2018_7m.png\n",
            "2202_1011_7m.png\n",
            "2202_1012_7m.png\n",
            "2202_1013_7m.png\n",
            "2202_1014_7m.png\n",
            "2202_1015_7m.png\n",
            "2202_2011_7m.png\n",
            "2202_2012_7m.png\n",
            "2202_2013_7m.png\n",
            "2202_2014_7m.png\n",
            "2202_2015_7m.png\n",
            "2202_2010_7m.png\n",
            "2202_2009_7m.png\n",
            "2202_2008_7m.png\n",
            "2202_2007_7m.png\n",
            "2202_2006_7m.png\n",
            "2202_1010_7m.png\n",
            "2202_1009_7m.png\n",
            "2202_1008_7m.png\n",
            "2202_1007_7m.png\n",
            "2202_1006_7m.png\n",
            "2201_2012_7m.png\n",
            "2201_2011_7m.png\n",
            "2201_2010_7m.png\n",
            "2201_2009_7m.png\n",
            "2201_2008_7m.png\n",
            "2201_2007_7m.png\n",
            "2201_1012_7m.png\n",
            "2201_1011_7m.png\n",
            "2201_1010_7m.png\n",
            "2201_1009_7m.png\n",
            "2201_1008_7m.png\n",
            "2201_1007_7m.png\n",
            "2201_1001_7m.png\n",
            "2201_1002_7m.png\n",
            "2201_1003_7m.png\n",
            "2201_1004_7m.png\n",
            "2201_1005_7m.png\n",
            "2201_1006_7m.png\n",
            "2201_2001_7m.png\n",
            "2201_2002_7m.png\n",
            "2201_2003_7m.png\n",
            "2201_2004_7m.png\n",
            "2201_2005_7m.png\n",
            "2201_2006_7m.png\n",
            "2202_1001_7m.png\n",
            "2202_1002_7m.png\n",
            "2202_1003_7m.png\n",
            "2202_1004_7m.png\n",
            "2202_1005_7m.png\n",
            "2202_2001_7m.png\n",
            "2202_2002_7m.png\n",
            "2202_2003_7m.png\n",
            "2202_2004_7m.png\n",
            "2202_2005_7m.png\n"
          ]
        }
      ],
      "source": [
        "for tiffile in img_list_names:\n",
        "    print(tiffile)\n",
        "\n",
        "    with fiona.open(f'{shp_dir}/'f'{shp_file}', \"r\") as shapefile:\n",
        "    \n",
        "        for feature in shapefile:\n",
        "    \n",
        "            shape = [feature[\"geometry\"]]\n",
        "            \n",
        "            Plot_ID = feature[\"properties\"][plot_num_field_name]\n",
        "                        \n",
        "           # Change the current working directory\n",
        "            os.chdir(img_dir)\n",
        "            \n",
        "            with rasterio.open(tiffile, \"r\") as ras:\n",
        "                out_image, out_transform = mask(ras, shape, crop=True, nodata=0)\n",
        "                out_meta = ras.meta\n",
        "                \n",
        "                out_image = ma.masked_where(out_image == 0, out_image)\n",
        "                out_image = ma.filled(out_image.astype(float), np.nan)\n",
        "                \n",
        "              # Change the current working directory\n",
        "                os.chdir(f'{plot_dir}')\n",
        "\n",
        "                new_img_name = Plot_ID + '_' +  \"7m\" + '.png'\n",
        "                print(new_img_name)  \n",
        "\n",
        "                out_meta.update({\"driver\": \"PNG\",\n",
        "                 \"height\": 640,       #out_image.shape[1],\n",
        "                 \"width\": 3872,        #out_image.shape[2],\n",
        "                 'count': 4,\n",
        "                 \"transform\": out_transform})\n",
        "                \n",
        "                with rasterio.open(new_img_name, \"w\", **out_meta) as dest:\n",
        "                    dest.write(out_image)"
      ]
    },
    {
      "cell_type": "code",
      "execution_count": 68,
      "metadata": {
        "id": "Zc9z8yBR5g8w"
      },
      "outputs": [
        {
          "data": {
            "image/png": "[encoded data removed]",
            "text/plain": [
              "<Figure size 432x288 with 1 Axes>"
            ]
          },
          "metadata": {
            "needs_background": "light"
          },
          "output_type": "display_data"
        }
      ],
      "source": [
        "#plotting\n",
        "from matplotlib import pyplot\n",
        "with rasterio.open(new_img_name) as src:\n",
        "    pyplot.imshow(src.read(1), cmap='pink')\n",
        "    pyplot.show()"
      ]
    }
  ],
  "metadata": {
    "accelerator": "GPU",
    "colab": {
      "machine_shape": "hm",
      "provenance": []
    },
    "gpuClass": "standard",
    "kernelspec": {
      "display_name": "Python 3.8.12 ('pheno1')",
      "language": "python",
      "name": "python3"
    },
    "language_info": {
      "codemirror_mode": {
        "name": "ipython",
        "version": 3
      },
      "file_extension": ".py",
      "mimetype": "text/x-python",
      "name": "python",
      "nbconvert_exporter": "python",
      "pygments_lexer": "ipython3",
      "version": "3.8.12"
    },
    "vscode": {
      "interpreter": {
        "hash": "0de243c04fce33973b44ca1098946231a99e94861f01807479347a23bfc17024"
      }
    }
  },
  "nbformat": 4,
  "nbformat_minor": 0
}
